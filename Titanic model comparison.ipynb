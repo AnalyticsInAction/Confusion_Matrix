{
 "cells": [
  {
   "cell_type": "markdown",
   "metadata": {},
   "source": [
    "### Process data into correct format"
   ]
  },
  {
   "cell_type": "code",
   "execution_count": 33,
   "metadata": {},
   "outputs": [],
   "source": [
    "import numpy as np\n",
    "import pandas as pd\n",
    "\n",
    "#df_Train = pd.read_csv('/Users/Steve/Desktop/Titanic dataset/TitanicTrain.csv')\n",
    "df_Train = pd.read_csv('https://docs.google.com/spreadsheets/d/e/2PACX-1vTliZmavBsJCFDiEwxcSIIftu-0gR9p34n8Bq4OUNL4TxwHY-JMS6KhZEbWr1bp91UqHPkliZBBFgwh/pub?gid=1593012114&single=true&output=csv')\n",
    "df_Test = pd.read_csv('https://docs.google.com/spreadsheets/d/e/2PACX-1vRqbQjIAiSmvJuNfcxBuxnKqOrwN82w0o27K3HYbD2DWUmsWuKKGYqKFj7hEUgJ2FqeSolBnDUqGoUc/pub?gid=471563808&single=true&output=csv')\n",
    "\n",
    "#Create dataframe with numeric categorical features & outcomes. \n",
    "df_all =pd.get_dummies(df_Train,columns=['Sex', 'Embarked', 'Pclass', 'Survived'], drop_first=True)\n",
    "\n",
    "#Convert dataframe to numpy array containing my basic list of features to use.\n",
    "X_train = df_all[['Sex_male','Pclass_2', 'Pclass_3','Embarked_Q', 'Embarked_S']].values\n",
    "\n",
    "#Create the \"survival outcome\" dataframe and then convert it to numpy array/series.\n",
    "y_train = df_all['Survived_1'].values\n"
   ]
  },
  {
   "cell_type": "markdown",
   "metadata": {},
   "source": [
    "### Decision Tree Model"
   ]
  },
  {
   "cell_type": "code",
   "execution_count": 34,
   "metadata": {},
   "outputs": [
    {
     "name": "stdout",
     "output_type": "stream",
     "text": [
      "[[523  26]\n",
      " [142 200]]\n"
     ]
    }
   ],
   "source": [
    "from sklearn import metrics\n",
    "#instantiate Model\n",
    "clf = DecisionTreeClassifier(random_state=1)\n",
    "\n",
    "#Fit model \n",
    "clf.fit(X_train, y_train)\n",
    "\n",
    "#Predict survival using model\n",
    "predicted_survival = clf.predict(X_train)\n",
    "actual_survival = y_train\n",
    "\n",
    "#check Decision tree  performance\n",
    "print(metrics.confusion_matrix(actual_survival, predicted_survival))"
   ]
  },
  {
   "cell_type": "markdown",
   "metadata": {},
   "source": [
    "### Support Vector Machine"
   ]
  },
  {
   "cell_type": "code",
   "execution_count": 35,
   "metadata": {},
   "outputs": [
    {
     "name": "stdout",
     "output_type": "stream",
     "text": [
      "[[523  26]\n",
      " [142 200]]\n"
     ]
    }
   ],
   "source": [
    "from sklearn.svm import SVC\n",
    "model3 = SVC(gamma=2, C=1)\n",
    "model3.fit(X_train, y_train)\n",
    "prediction3 = model3.predict(X_train)\n",
    "observed3 = y_train\n",
    "print(metrics.confusion_matrix(observed3, prediction3))"
   ]
  },
  {
   "cell_type": "markdown",
   "metadata": {},
   "source": [
    "### Neural Network (MLP Classifier)"
   ]
  },
  {
   "cell_type": "code",
   "execution_count": 36,
   "metadata": {},
   "outputs": [
    {
     "name": "stdout",
     "output_type": "stream",
     "text": [
      "[[523  26]\n",
      " [142 200]]\n"
     ]
    }
   ],
   "source": [
    "from sklearn.neural_network import MLPClassifier\n",
    "model2 = MLPClassifier(hidden_layer_sizes=(30,30,30))\n",
    "model2.fit(X_train, y_train)\n",
    "prediction2 = model2.predict(X_train)\n",
    "observed2 = y_train\n",
    "print(metrics.confusion_matrix(observed2, prediction2))"
   ]
  },
  {
   "cell_type": "code",
   "execution_count": null,
   "metadata": {
    "collapsed": true
   },
   "outputs": [],
   "source": []
  },
  {
   "cell_type": "code",
   "execution_count": null,
   "metadata": {
    "collapsed": true
   },
   "outputs": [],
   "source": []
  },
  {
   "cell_type": "code",
   "execution_count": null,
   "metadata": {
    "collapsed": true
   },
   "outputs": [],
   "source": []
  },
  {
   "cell_type": "code",
   "execution_count": null,
   "metadata": {
    "collapsed": true
   },
   "outputs": [],
   "source": []
  },
  {
   "cell_type": "code",
   "execution_count": null,
   "metadata": {
    "collapsed": true
   },
   "outputs": [],
   "source": []
  },
  {
   "cell_type": "code",
   "execution_count": null,
   "metadata": {
    "collapsed": true
   },
   "outputs": [],
   "source": []
  },
  {
   "cell_type": "code",
   "execution_count": null,
   "metadata": {
    "collapsed": true
   },
   "outputs": [],
   "source": []
  },
  {
   "cell_type": "code",
   "execution_count": null,
   "metadata": {
    "collapsed": true
   },
   "outputs": [],
   "source": []
  },
  {
   "cell_type": "code",
   "execution_count": null,
   "metadata": {
    "collapsed": true
   },
   "outputs": [],
   "source": []
  },
  {
   "cell_type": "code",
   "execution_count": null,
   "metadata": {
    "collapsed": true
   },
   "outputs": [],
   "source": []
  },
  {
   "cell_type": "code",
   "execution_count": null,
   "metadata": {
    "collapsed": true
   },
   "outputs": [],
   "source": []
  },
  {
   "cell_type": "code",
   "execution_count": null,
   "metadata": {
    "collapsed": true
   },
   "outputs": [],
   "source": []
  },
  {
   "cell_type": "code",
   "execution_count": null,
   "metadata": {
    "collapsed": true
   },
   "outputs": [],
   "source": []
  },
  {
   "cell_type": "code",
   "execution_count": null,
   "metadata": {
    "collapsed": true
   },
   "outputs": [],
   "source": []
  },
  {
   "cell_type": "code",
   "execution_count": null,
   "metadata": {
    "collapsed": true
   },
   "outputs": [],
   "source": []
  },
  {
   "cell_type": "code",
   "execution_count": null,
   "metadata": {
    "collapsed": true
   },
   "outputs": [],
   "source": []
  },
  {
   "cell_type": "code",
   "execution_count": null,
   "metadata": {
    "collapsed": true
   },
   "outputs": [],
   "source": []
  },
  {
   "cell_type": "code",
   "execution_count": null,
   "metadata": {
    "collapsed": true
   },
   "outputs": [],
   "source": []
  }
 ],
 "metadata": {
  "kernelspec": {
   "display_name": "Python 3",
   "language": "python",
   "name": "python3"
  },
  "language_info": {
   "codemirror_mode": {
    "name": "ipython",
    "version": 3
   },
   "file_extension": ".py",
   "mimetype": "text/x-python",
   "name": "python",
   "nbconvert_exporter": "python",
   "pygments_lexer": "ipython3",
   "version": "3.6.1"
  }
 },
 "nbformat": 4,
 "nbformat_minor": 2
}
